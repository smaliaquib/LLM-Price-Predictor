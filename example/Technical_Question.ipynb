{
 "cells": [
  {
   "cell_type": "code",
   "execution_count": 1,
   "metadata": {},
   "outputs": [],
   "source": [
    "from dotenv import load_dotenv\n",
    "from IPython.display import Markdown, display, update_display\n",
    "from openai import OpenAI\n",
    "import ollama"
   ]
  },
  {
   "cell_type": "code",
   "execution_count": 2,
   "metadata": {},
   "outputs": [],
   "source": [
    "MODEL_GPT = \"gpt-4o-mini\"\n",
    "MODEL_LLAMA = \"llama3.2\"\n",
    "\n",
    "load_dotenv()\n",
    "openai = OpenAI()\n",
    "\n",
    "system_prompt = \"You are a tutor wo helps solve coding question and provide it with a relavant answer\"\n",
    "user_prompt = \"\"\"Can you help me solve a code what it does? yield from {book.get(\"author\") for book in books if book.get(\"author\")} \"\"\"\n",
    "\n",
    "\n",
    "message = [\n",
    "    {\"role\": \"system\", \"content\": system_prompt},\n",
    "    {\"role\": \"user\", \"content\": user_prompt}\n",
    "]"
   ]
  },
  {
   "cell_type": "code",
   "execution_count": 4,
   "metadata": {},
   "outputs": [
    {
     "data": {
      "text/markdown": [
       "Certainly! The code snippet you provided uses a combination of a set comprehension and the `yield from` statement in Python. Let's break it down to understand what it does:\n",
       "\n",
       "1. **Set Comprehension**: \n",
       "   The expression `{book.get(\"author\") for book in books if book.get(\"author\")}` is a set comprehension. It creates a set of unique authors from a list of book dictionaries (assuming `books` is a list of dictionaries representing books). \n",
       "\n",
       "   - `book.get(\"author\")`: This extracts the value associated with the key `\"author\"` from each `book` dictionary.\n",
       "   - `if book.get(\"author\")`: This filters the books, ensuring that only those with a non-None (and non-empty) author are included in the set.\n",
       "\n",
       "2. **`yield from`**:\n",
       "   The `yield from` statement is used within a generator function. It allows you to yield all values from an iterable (in this case, the set created in the set comprehension) one by one. This means that if the expression is inside a generator function, it will produce each author value one at a time when you iterate over the generator.\n",
       "\n",
       "### Putting It All Together\n",
       "This line of code is likely part of a generator function that yields unique authors from a collection of books where an author is specified. \n",
       "\n",
       "Here’s a complete example that incorporates the code in a generator function:\n",
       "\n",
       "```python\n",
       "def get_authors(books):\n",
       "    yield from {book.get(\"author\") for book in books if book.get(\"author\")}\n",
       "\n",
       "# Example usage:\n",
       "books = [\n",
       "    {\"title\": \"Book 1\", \"author\": \"Author A\"},\n",
       "    {\"title\": \"Book 2\", \"author\": \"Author B\"},\n",
       "    {\"title\": \"Book 3\", \"author\": \"Author A\"},\n",
       "    {\"title\": \"Book 4\", \"author\": None},\n",
       "    {\"title\": \"Book 5\", \"author\": \"Author C\"},\n",
       "]\n",
       "\n",
       "for author in get_authors(books):\n",
       "    print(author)\n",
       "```\n",
       "\n",
       "### Output Explanation\n",
       "For the provided example list of `books`, the output will be:\n",
       "```\n",
       "Author A\n",
       "Author B\n",
       "Author C\n",
       "```\n",
       "The authors are unique and any entries without a specified author are ignored. Thus, the output reflects only those authors who were present in the book entries. \n",
       "\n",
       "If you have further questions or need clarification on any part of this explanation, feel free to ask!"
      ],
      "text/plain": [
       "<IPython.core.display.Markdown object>"
      ]
     },
     "metadata": {},
     "output_type": "display_data"
    }
   ],
   "source": [
    "stream = openai.chat.completions.create(model=MODEL_GPT, messages=message, stream=True)\n",
    "\n",
    "response = \"\"\n",
    "display_handle = display(Markdown(\"\"), display_id=True)\n",
    "for chunk in stream:\n",
    "    response += chunk.choices[0].delta.content or ''\n",
    "    esponse = response.replace(\"```\",\"\").replace(\"markdown\", \"\")\n",
    "    update_display(Markdown(response), display_id=display_handle.display_id)"
   ]
  },
  {
   "cell_type": "code",
   "execution_count": 5,
   "metadata": {},
   "outputs": [
    {
     "data": {
      "text/markdown": [
       "Let's break down this code.\n",
       "\n",
       "**Code Explanation**\n",
       "\n",
       "This is a Python code snippet that uses a feature called \"yield from\" to iterate over the authors of multiple books. Here's what each part does:\n",
       "\n",
       "- `yield from {book.get(\"author\") for book in books if book.get(\"author\")}`:\n",
       "  - The `yield from` keyword is used to delegate a subiterator to the current iterator.\n",
       "  - `{book.get(\"author\") for book in books if book.get(\"author\")}` is a generator expression that yields the author of each book. \n",
       "    - `for book in books` iterates over the list or other iterable (`books`) containing dictionaries representing books.\n",
       "    - `if book.get(\"author\")` filters out any books that don't have an \"author\" key in their dictionary.\n",
       "\n",
       "**How it works**\n",
       "\n",
       "1. The generator expression yields the author of each book.\n",
       "2. The `yield from` keyword is used to delegate this subiterator to a parent iterator (in this case, the original list comprehension).\n",
       "3. When the generator expression is iterated over, the yield from statement will delegate each yielded value from the generator expression.\n",
       "\n",
       "**Example Use Case**\n",
       "\n",
       "Suppose we have a list of books, where each book is represented by a dictionary:\n",
       "\n",
       "```python\n",
       "books = [\n",
       "    {\"title\": \"Book 1\", \"author\": \"Author A\"},\n",
       "    {\"title\": \"Book 2\", \"author\": None},\n",
       "    {\"title\": \"Book 3\", \"author\": \"Author C\"}\n",
       "]\n",
       "```\n",
       "\n",
       "When we run `yield from {book.get(\"author\") for book in books if book.get(\"author\")}`, it will yield:\n",
       "\n",
       "```python\n",
       "['Author A', 'Author C']\n",
       "```\n",
       "\n",
       "This is because the generator expression iterates over each book, yielding its author only if it has an \"author\" key."
      ],
      "text/plain": [
       "<IPython.core.display.Markdown object>"
      ]
     },
     "metadata": {},
     "output_type": "display_data"
    },
    {
     "ename": "",
     "evalue": "",
     "output_type": "error",
     "traceback": [
      "\u001b[1;31mThe Kernel crashed while executing code in the current cell or a previous cell. \n",
      "\u001b[1;31mPlease review the code in the cell(s) to identify a possible cause of the failure. \n",
      "\u001b[1;31mClick <a href='https://aka.ms/vscodeJupyterKernelCrash'>here</a> for more info. \n",
      "\u001b[1;31mView Jupyter <a href='command:jupyter.viewOutput'>log</a> for further details."
     ]
    }
   ],
   "source": [
    "response = ollama.chat(model=MODEL_LLAMA, messages=message)\n",
    "reply = response['message']['content']\n",
    "display(Markdown(reply))"
   ]
  },
  {
   "cell_type": "code",
   "execution_count": null,
   "metadata": {},
   "outputs": [],
   "source": []
  }
 ],
 "metadata": {
  "kernelspec": {
   "display_name": "Python 3 (ipykernel)",
   "language": "python",
   "name": "python3"
  },
  "language_info": {
   "codemirror_mode": {
    "name": "ipython",
    "version": 3
   },
   "file_extension": ".py",
   "mimetype": "text/x-python",
   "name": "python",
   "nbconvert_exporter": "python",
   "pygments_lexer": "ipython3",
   "version": "3.11.11"
  }
 },
 "nbformat": 4,
 "nbformat_minor": 4
}
