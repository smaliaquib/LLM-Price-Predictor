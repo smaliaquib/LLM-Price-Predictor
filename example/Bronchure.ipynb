{
 "cells": [
  {
   "cell_type": "code",
   "execution_count": 6,
   "metadata": {},
   "outputs": [],
   "source": [
    "import os\n",
    "import requests\n",
    "import json\n",
    "from bs4 import BeautifulSoup\n",
    "from dotenv import load_dotenv\n",
    "from openai import OpenAI\n",
    "from IPython.display import Markdown, display, update_display"
   ]
  },
  {
   "cell_type": "code",
   "execution_count": 3,
   "metadata": {},
   "outputs": [
    {
     "name": "stdout",
     "output_type": "stream",
     "text": [
      "API key looks good so far\n"
     ]
    }
   ],
   "source": [
    "load_dotenv(override=True)\n",
    "api_key = os.getenv('OPENAI_API_KEY')\n",
    "\n",
    "if api_key and api_key.startswith('sk-proj-') and len(api_key)>10:\n",
    "    print(\"API key looks good so far\")\n",
    "else:\n",
    "    print(\"There might be a problem with your API key? Please visit the troubleshooting notebook!\")\n",
    "    \n",
    "MODEL = 'gpt-4o-mini'\n",
    "openai = OpenAI()"
   ]
  },
  {
   "cell_type": "code",
   "execution_count": 4,
   "metadata": {},
   "outputs": [],
   "source": [
    "# A class to represent a Webpage\n",
    "\n",
    "# Some websites need you to use proper headers when fetching them:\n",
    "headers = {\n",
    " \"User-Agent\": \"Mozilla/5.0 (Windows NT 10.0; Win64; x64) AppleWebKit/537.36 (KHTML, like Gecko) Chrome/117.0.0.0 Safari/537.36\"\n",
    "}\n",
    "\n",
    "class Website:\n",
    "    \"\"\"\n",
    "    A utility class to represent a Website that we have scraped, now with links\n",
    "    \"\"\"\n",
    "\n",
    "    def __init__(self, url):\n",
    "        self.url = url\n",
    "        response = requests.get(url, headers=headers)\n",
    "        self.body = response.content\n",
    "        soup = BeautifulSoup(self.body, 'html.parser')\n",
    "        self.title = soup.title.string if soup.title else \"No title found\"\n",
    "        if soup.body:\n",
    "            for irrelevant in soup.body([\"script\", \"style\", \"img\", \"input\"]):\n",
    "                irrelevant.decompose()\n",
    "            self.text = soup.body.get_text(separator=\"\\n\", strip=True)\n",
    "        else:\n",
    "            self.text = \"\"\n",
    "        links = [link.get('href') for link in soup.find_all('a')]\n",
    "        self.links = [link for link in links if link]\n",
    "\n",
    "    def get_contents(self):\n",
    "        return f\"Webpage Title:\\n{self.title}\\nWebpage Contents:\\n{self.text}\\n\\n\""
   ]
  },
  {
   "cell_type": "code",
   "execution_count": 8,
   "metadata": {},
   "outputs": [],
   "source": [
    "link_system_prompt = \"You are provided with a list of links found on webpage. \\\n",
    "You are able to decide which of the links would be most relevant to include in a brochure about the company, \\\n",
    "such as links to an about page, or a Company page, Careers/jobs pages\\n\"\n",
    "\n",
    "link_system_prompt += \"You should respond in JSON as in this example:\"\n",
    "\n",
    "link_system_prompt += \"\"\"\n",
    "{\n",
    "    \"links\": [\n",
    "        {\"type\": \"about page\", \"url\": \"https://full.url/goes/here/about\"},\n",
    "        {\"type\": \"careers page\": \"url\": \"https://another.full.url/careers\"}\n",
    "    ]\n",
    "}\n",
    "\"\"\"\n"
   ]
  },
  {
   "cell_type": "code",
   "execution_count": 9,
   "metadata": {},
   "outputs": [
    {
     "name": "stdout",
     "output_type": "stream",
     "text": [
      "You are provided with a list of links found on webpage. You are able to decide which of the links would be most relevant to include in a brochure about the company, such as links to an about page, or a Company page, Careers/jobs pages\n",
      "You should respond in JSON as in this example:\n",
      "{\n",
      "    \"links\": [\n",
      "        {\"type\": \"about page\", \"url\": \"https://full.url/goes/here/about\"},\n",
      "        {\"type\": \"careers page\": \"url\": \"https://another.full.url/careers\"}\n",
      "    ]\n",
      "}\n",
      "\n"
     ]
    }
   ],
   "source": [
    "print(link_system_prompt)"
   ]
  },
  {
   "cell_type": "code",
   "execution_count": 10,
   "metadata": {},
   "outputs": [],
   "source": [
    "def get_links_user_prompt(website):\n",
    "    user_prompt = f\"Here is the list of the links on the website of {website.url}\"\n",
    "    user_prompt += \"please decide which of these are relevant web links for a brochre about the company, respond with the full https URL in JSON format. \\\n",
    "        Do not include Terms of service, Privacy, email links.\\n\"\n",
    "    user_prompt += \"Links (some might be rellative links):\\n\"\n",
    "    user_prompt += \"\\n\".join(website.links)\n",
    "    return user_prompt"
   ]
  },
  {
   "cell_type": "code",
   "execution_count": 11,
   "metadata": {},
   "outputs": [
    {
     "name": "stdout",
     "output_type": "stream",
     "text": [
      "Here is the list of the links on the website of https://edwarddonner.complease decide which of these are relevant web links for a brochre about the company, respond with the full https URL in JSON format.         Do not include Terms of service, Privacy, email links.\n",
      "Links (some might be rellative links):\n",
      "https://edwarddonner.com/\n",
      "https://edwarddonner.com/outsmart/\n",
      "https://edwarddonner.com/about-me-and-about-nebula/\n",
      "https://edwarddonner.com/posts/\n",
      "https://edwarddonner.com/\n",
      "https://news.ycombinator.com\n",
      "https://nebula.io/?utm_source=ed&utm_medium=referral\n",
      "https://www.prnewswire.com/news-releases/wynden-stark-group-acquires-nyc-venture-backed-tech-startup-untapt-301269512.html\n",
      "https://patents.google.com/patent/US20210049536A1/\n",
      "https://www.linkedin.com/in/eddonner/\n",
      "https://edwarddonner.com/2025/01/23/llm-workshop-hands-on-with-agents-resources/\n",
      "https://edwarddonner.com/2025/01/23/llm-workshop-hands-on-with-agents-resources/\n",
      "https://edwarddonner.com/2024/12/21/llm-resources-superdatascience/\n",
      "https://edwarddonner.com/2024/12/21/llm-resources-superdatascience/\n",
      "https://edwarddonner.com/2024/11/13/llm-engineering-resources/\n",
      "https://edwarddonner.com/2024/11/13/llm-engineering-resources/\n",
      "https://edwarddonner.com/2024/10/16/from-software-engineer-to-ai-data-scientist-resources/\n",
      "https://edwarddonner.com/2024/10/16/from-software-engineer-to-ai-data-scientist-resources/\n",
      "https://edwarddonner.com/\n",
      "https://edwarddonner.com/outsmart/\n",
      "https://edwarddonner.com/about-me-and-about-nebula/\n",
      "https://edwarddonner.com/posts/\n",
      "mailto:hello@mygroovydomain.com\n",
      "https://www.linkedin.com/in/eddonner/\n",
      "https://twitter.com/edwarddonner\n",
      "https://www.facebook.com/edward.donner.52\n"
     ]
    }
   ],
   "source": [
    "print(get_links_user_prompt(ed))"
   ]
  },
  {
   "cell_type": "code",
   "execution_count": 14,
   "metadata": {},
   "outputs": [],
   "source": [
    "def get_links(url):\n",
    "    website = Website(url)\n",
    "    response = openai.chat.completions.create(\n",
    "        model=MODEL,\n",
    "        messages=[\n",
    "            {\"role\": \"system\", \"content\": link_system_prompt},\n",
    "            {\"role\": \"user\", \"content\": get_links_user_prompt(website)}\n",
    "        ],\n",
    "        response_format= {\"type\": \"json_object\"}\n",
    "    )\n",
    "    result = response.choices[0].message.content\n",
    "    return json.loads(result)"
   ]
  },
  {
   "cell_type": "code",
   "execution_count": 15,
   "metadata": {},
   "outputs": [
    {
     "data": {
      "text/plain": [
       "['/',\n",
       " '/models',\n",
       " '/datasets',\n",
       " '/spaces',\n",
       " '/posts',\n",
       " '/docs',\n",
       " '/enterprise',\n",
       " '/pricing',\n",
       " '/login',\n",
       " '/join',\n",
       " '/blog/inference-providers',\n",
       " '/deepseek-ai/DeepSeek-R1',\n",
       " '/deepseek-ai/Janus-Pro-7B',\n",
       " '/mistralai/Mistral-Small-24B-Instruct-2501',\n",
       " '/deepseek-ai/DeepSeek-V3',\n",
       " '/hexgrad/Kokoro-82M',\n",
       " '/models',\n",
       " '/spaces/deepseek-ai/Janus-Pro-7B',\n",
       " '/spaces/tencent/Hunyuan3D-2',\n",
       " '/spaces/lllyasviel/iclight-v2',\n",
       " '/spaces/Qwen/Qwen2.5-Max-Demo',\n",
       " '/spaces/ReverseImageSearch/Reverse-Image-Search2',\n",
       " '/spaces',\n",
       " '/datasets/open-thoughts/OpenThoughts-114k',\n",
       " '/datasets/fka/awesome-chatgpt-prompts',\n",
       " '/datasets/cognitivecomputations/dolphin-r1',\n",
       " '/datasets/ServiceNow-AI/R1-Distill-SFT',\n",
       " '/datasets/bespokelabs/Bespoke-Stratos-17k',\n",
       " '/datasets',\n",
       " '/join',\n",
       " '/pricing#endpoints',\n",
       " '/pricing#spaces',\n",
       " '/pricing',\n",
       " '/enterprise',\n",
       " '/enterprise',\n",
       " '/enterprise',\n",
       " '/enterprise',\n",
       " '/enterprise',\n",
       " '/enterprise',\n",
       " '/enterprise',\n",
       " '/allenai',\n",
       " '/facebook',\n",
       " '/amazon',\n",
       " '/google',\n",
       " '/Intel',\n",
       " '/microsoft',\n",
       " '/grammarly',\n",
       " '/Writer',\n",
       " '/docs/transformers',\n",
       " '/docs/diffusers',\n",
       " '/docs/safetensors',\n",
       " '/docs/huggingface_hub',\n",
       " '/docs/tokenizers',\n",
       " '/docs/peft',\n",
       " '/docs/transformers.js',\n",
       " '/docs/timm',\n",
       " '/docs/trl',\n",
       " '/docs/datasets',\n",
       " '/docs/text-generation-inference',\n",
       " '/docs/accelerate',\n",
       " '/models',\n",
       " '/datasets',\n",
       " '/spaces',\n",
       " '/tasks',\n",
       " 'https://ui.endpoints.huggingface.co',\n",
       " '/chat',\n",
       " '/huggingface',\n",
       " '/brand',\n",
       " '/terms-of-service',\n",
       " '/privacy',\n",
       " 'https://apply.workable.com/huggingface/',\n",
       " 'mailto:press@huggingface.co',\n",
       " '/learn',\n",
       " '/docs',\n",
       " '/blog',\n",
       " 'https://discuss.huggingface.co',\n",
       " 'https://status.huggingface.co/',\n",
       " 'https://github.com/huggingface',\n",
       " 'https://twitter.com/huggingface',\n",
       " 'https://www.linkedin.com/company/huggingface/',\n",
       " '/join/discord']"
      ]
     },
     "execution_count": 15,
     "metadata": {},
     "output_type": "execute_result"
    }
   ],
   "source": [
    "huggingface = Website(\"https://huggingface.co\")\n",
    "huggingface.links"
   ]
  },
  {
   "cell_type": "code",
   "execution_count": 16,
   "metadata": {},
   "outputs": [
    {
     "data": {
      "text/plain": [
       "{'links': [{'type': 'about page', 'url': 'https://huggingface.co/huggingface'},\n",
       "  {'type': 'careers page', 'url': 'https://apply.workable.com/huggingface/'},\n",
       "  {'type': 'enterprise page', 'url': 'https://huggingface.co/enterprise'},\n",
       "  {'type': 'pricing page', 'url': 'https://huggingface.co/pricing'},\n",
       "  {'type': 'blog page', 'url': 'https://huggingface.co/blog'},\n",
       "  {'type': 'documentation page', 'url': 'https://huggingface.co/docs'}]}"
      ]
     },
     "execution_count": 16,
     "metadata": {},
     "output_type": "execute_result"
    }
   ],
   "source": [
    "get_links(\"https://huggingface.co\")"
   ]
  },
  {
   "cell_type": "code",
   "execution_count": 17,
   "metadata": {},
   "outputs": [],
   "source": [
    "def get_all_details(url):\n",
    "    result = \"Landing page:\\n\"\n",
    "    result += Website(url).get_contents()\n",
    "    links = get_links(url)\n",
    "    print(\"Found links:\", links)\n",
    "    for link in links[\"links\"]:\n",
    "        result += f\"\\n\\n{link['type']}\\n\"\n",
    "        result += Website(link[\"url\"]).get_contents()\n",
    "    return result"
   ]
  },
  {
   "cell_type": "code",
   "execution_count": 19,
   "metadata": {},
   "outputs": [],
   "source": [
    "# print(get_all_details(\"https://huggingface.co\"))"
   ]
  },
  {
   "cell_type": "code",
   "execution_count": 20,
   "metadata": {},
   "outputs": [],
   "source": [
    "system_prompt = \"You are an assistant that analyzes the contents of several relevant pages from a company website \\\n",
    "and creates a short brochure about the company for prospective customers, investors and recruits. Respond in markdown.\\\n",
    "Include details of company culture, customers and careers/jobs if you have the information.\"\n",
    "\n",
    "def get_brochure_user_prompt(company_name, url):\n",
    "    user_prompt = f\"You are looking at a company called: {company_name}\\n\"\n",
    "    user_prompt += f\"Here are the contents of its landing page and other relevant pages; use this information to build a short brochure of the company in markdown.\\n\"\n",
    "    user_prompt += get_all_details(url)\n",
    "    user_prompt = user_prompt[:5_000] # Truncate if more than 5,000 characters\n",
    "    return user_prompt"
   ]
  },
  {
   "cell_type": "code",
   "execution_count": 21,
   "metadata": {},
   "outputs": [
    {
     "name": "stdout",
     "output_type": "stream",
     "text": [
      "Found links: {'links': [{'type': 'about page', 'url': 'https://huggingface.co/huggingface'}, {'type': 'careers page', 'url': 'https://apply.workable.com/huggingface/'}, {'type': 'company page', 'url': 'https://www.linkedin.com/company/huggingface/'}, {'type': 'pricing page', 'url': 'https://huggingface.co/pricing'}, {'type': 'enterprise page', 'url': 'https://huggingface.co/enterprise'}, {'type': 'blog', 'url': 'https://huggingface.co/blog'}]}\n"
     ]
    },
    {
     "data": {
      "text/plain": [
       "'You are looking at a company called: HuggingFace\\nHere are the contents of its landing page and other relevant pages; use this information to build a short brochure of the company in markdown.\\nLanding page:\\nWebpage Title:\\nHugging Face – The AI community building the future.\\nWebpage Contents:\\nHugging Face\\nModels\\nDatasets\\nSpaces\\nPosts\\nDocs\\nEnterprise\\nPricing\\nLog In\\nSign Up\\nNEW\\nWelcome to Inference Providers on the Hub 🔥\\nsmolagents - a smol library to build great agents\\nUse models from the HF Hub in LM Studio\\nThe AI community building the future.\\nThe platform where the machine learning community collaborates on models, datasets, and applications.\\nTrending on\\nthis week\\nModels\\ndeepseek-ai/DeepSeek-R1\\nUpdated\\n6 days ago\\n•\\n1.54M\\n•\\n7.28k\\ndeepseek-ai/Janus-Pro-7B\\nUpdated\\n6 days ago\\n•\\n223k\\n•\\n2.67k\\nmistralai/Mistral-Small-24B-Instruct-2501\\nUpdated\\n4 days ago\\n•\\n30.1k\\n•\\n634\\ndeepseek-ai/DeepSeek-V3\\nUpdated\\n13 days ago\\n•\\n1.05M\\n•\\n3.22k\\nhexgrad/Kokoro-82M\\nUpdated\\n5 days ago\\n•\\n172k\\n•\\n2.84k\\nBrowse 1M+ models\\nSpaces\\nRunning\\non\\nZero\\n1.48k\\n1.48k\\nChat With Janus-Pro-7B\\n🌍\\nA unified multimodal understanding and generation model.\\nRunning\\non\\nZero\\n1.33k\\n1.33k\\nHunyuan3D-2.0\\n🌍\\nText-to-3D and Image-to-3D Generation\\nRunning\\non\\nZero\\n2.48k\\n2.48k\\nIC Light V2\\n📈\\nExecutes code from an environment variable\\nRunning\\n445\\n445\\nQwen2.5 Max Demo\\n🐢\\nSend messages for chatbot responses\\nBuilding\\n187\\n187\\nReverse Image Search\\n🌖\\nFree Reverse Image Search\\nBrowse 400k+ applications\\nDatasets\\nopen-thoughts/OpenThoughts-114k\\nUpdated\\nabout 3 hours ago\\n•\\n27.9k\\n•\\n303\\nfka/awesome-chatgpt-prompts\\nUpdated\\nJan 6\\n•\\n10.2k\\n•\\n7.35k\\ncognitivecomputations/dolphin-r1\\nUpdated\\n7 days ago\\n•\\n1.79k\\n•\\n192\\nServiceNow-AI/R1-Distill-SFT\\nUpdated\\nabout 9 hours ago\\n•\\n2.14k\\n•\\n172\\nbespokelabs/Bespoke-Stratos-17k\\nUpdated\\n7 days ago\\n•\\n38.8k\\n•\\n219\\nBrowse 250k+ datasets\\nThe Home of Machine Learning\\nCreate, discover and collaborate on ML better.\\nThe collaboration platform\\nHost and collaborate on unlimited public models, datasets and applications.\\nMove faster\\nWith the HF Open source stack.\\nExplore all modalities\\nText, image, video, audio or even 3D.\\nBuild your portfolio\\nShare your work with the world and build your ML profile.\\nSign Up\\nAccelerate your ML\\nWe provide paid Compute and Enterprise solutions.\\nCompute\\nDeploy on optimized\\nInference Endpoints\\nor update your\\nSpaces applications\\nto a GPU in a few clicks.\\nView pricing\\nStarting at $0.60/hour for GPU\\nEnterprise\\nGive your team the most advanced platform to build AI with enterprise-grade security, access controls and\\n\\t\\t\\tdedicated support.\\nGetting started\\nStarting at $20/user/month\\nSingle Sign-On\\nRegions\\nPriority Support\\nAudit Logs\\nResource Groups\\nPrivate Datasets Viewer\\nMore than 50,000 organizations are using Hugging Face\\nAi2\\nEnterprise\\nnon-profit\\n•\\n381 models\\n•\\n2.14k followers\\nAI at Meta\\nEnterprise\\ncompany\\n•\\n2.06k models\\n•\\n4.41k followers\\nAmazon Web Services\\ncompany\\n•\\n20 models\\n•\\n2.67k followers\\nGoogle\\ncompany\\n•\\n913 models\\n•\\n7.29k followers\\nIntel\\ncompany\\n•\\n218 models\\n•\\n2.21k followers\\nMicrosoft\\ncompany\\n•\\n354 models\\n•\\n8.11k followers\\nGrammarly\\ncompany\\n•\\n10 models\\n•\\n122 followers\\nWriter\\nEnterprise\\ncompany\\n•\\n19 models\\n•\\n204 followers\\nOur Open Source\\nWe are building the foundation of ML tooling with the community.\\nTransformers\\n138,683\\nState-of-the-art ML for Pytorch, TensorFlow, and JAX.\\nDiffusers\\n27,398\\nState-of-the-art diffusion models for image and audio generation in PyTorch.\\nSafetensors\\n3,069\\nSimple, safe way to store and distribute neural networks weights safely and quickly.\\nHub Python Library\\n2,305\\nClient library for the HF Hub: manage repositories from your Python runtime.\\nTokenizers\\n9,346\\nFast tokenizers, optimized for both research and production.\\nPEFT\\n17,170\\nParameter efficient finetuning methods for large models.\\nTransformers.js\\n12,820\\nState-of-the-art Machine Learning for the web. Run Transformers directly in your browser, with no need for a server.\\ntimm\\n33,067\\nState-of-the-art computer vision models, layers, optimizers, training/evaluation, and utilities.\\nTRL\\n11,159\\nTrain transformer language models with reinforcement learning.\\nDatasets\\n19,553\\nAccess and share datasets for computer vision, audio, and NLP tasks.\\nText Generation Inference\\n9,705\\nToolkit to serve Large Language Models.\\nAccelerate\\n8,271\\nEasily train and use PyTorch models with multi-GPU, TPU, mixed-precision.\\nSystem theme\\nWebsite\\nModels\\nDatasets\\nSpaces\\nTasks\\nInference Endpoints\\nHuggingChat\\nCompany\\nAbout\\nBrand assets\\nTerms of service\\nPrivacy\\nJobs\\nPress\\nResources\\nLearn\\nDocumentation\\nBlog\\nForum\\nService Status\\nSocial\\nGitHub\\nTwitter\\nLinkedIn\\nDiscord\\n\\n\\n\\nabout page\\nWebpage Title:\\nhuggingface (Hugging Face)\\nWebpage Contents:\\nHugging Face\\nModels\\nDatasets\\nSpaces\\nPosts\\nDocs\\nEnterprise\\nPricing\\nLog In\\nSign Up\\nHugging Face\\nEnterprise\\ncompany\\nVerified\\nhttps://huggingface.co\\nhuggingface\\nhuggingface\\nActivity Feed\\nFollow\\n17,450\\nAI & ML interests\\nThe AI community building the future.\\nRecent Activity\\nlysandre\\nupdated\\na dataset\\nabout 3 hours ago\\nhuggingface/transformers-metadata\\nzzhhjjj\\nauthored'"
      ]
     },
     "execution_count": 21,
     "metadata": {},
     "output_type": "execute_result"
    }
   ],
   "source": [
    "get_brochure_user_prompt(\"HuggingFace\", \"https://huggingface.co\")"
   ]
  },
  {
   "cell_type": "code",
   "execution_count": 25,
   "metadata": {},
   "outputs": [],
   "source": [
    "def create_brochure(company_name, url):\n",
    "    response = openai.chat.completions.create(\n",
    "        model=MODEL,\n",
    "        messages=[\n",
    "            {\"role\": \"system\", \"content\": system_prompt},\n",
    "            {\"role\": \"user\", \"content\": get_brochure_user_prompt(company_name, url)}\n",
    "          ],\n",
    "    )\n",
    "    result = response.choices[0].message.content\n",
    "    display(Markdown(result))"
   ]
  },
  {
   "cell_type": "code",
   "execution_count": 26,
   "metadata": {},
   "outputs": [
    {
     "name": "stdout",
     "output_type": "stream",
     "text": [
      "Found links: {'links': [{'type': 'about page', 'url': 'https://huggingface.co/huggingface'}, {'type': 'careers page', 'url': 'https://apply.workable.com/huggingface/'}, {'type': 'enterprise page', 'url': 'https://huggingface.co/enterprise'}, {'type': 'pricing page', 'url': 'https://huggingface.co/pricing'}, {'type': 'blog', 'url': 'https://huggingface.co/blog'}, {'type': 'community discussions', 'url': 'https://discuss.huggingface.co'}, {'type': 'GitHub', 'url': 'https://github.com/huggingface'}, {'type': 'LinkedIn', 'url': 'https://www.linkedin.com/company/huggingface/'}]}\n"
     ]
    },
    {
     "data": {
      "text/markdown": [
       "# Hugging Face Brochure\n",
       "\n",
       "### Welcome to Hugging Face – The AI Community Building the Future!\n",
       "\n",
       "#### **Company Overview**\n",
       "Hugging Face is a pioneering company at the forefront of artificial intelligence and machine learning innovation. Our mission is to create a platform where the machine learning community can collaborate, share, and build models, datasets, and applications that will influence the future of technology. With over 1 million models and 250,000 datasets available, Hugging Face is the go-to hub for AI enthusiasts, researchers, and enterprises alike.\n",
       "\n",
       "---\n",
       "\n",
       "#### **Our Offerings**\n",
       "\n",
       "- **Models**: Explore and utilize a vast selection of state-of-the-art machine learning models for various tasks including NLP, computer vision, and more.\n",
       "- **Datasets**: Access extensive datasets tailored for a range of AI and machine learning projects.\n",
       "- **Spaces**: Host and collaborate on ML projects effortlessly with our integrated tools.\n",
       "- **Enterprise Solutions**: Tailored services to support businesses with advanced security and dedicated support.\n",
       "\n",
       "---\n",
       "\n",
       "#### **Why Choose Hugging Face?**\n",
       "\n",
       "- **Collaborative Community**: Join our thriving community of over 50,000 organizations including industry leaders like Google, Amazon, and Meta.\n",
       "- **Open Source Commitment**: We champion open source, providing various ML tools and a collaborative environment to help drive innovation in the AI landscape.\n",
       "- **Diverse Applications**: Whether you're interested in text generation, audio processing, or image analysis, we support a myriad of applications across all modalities, including text, image, video, audio, and 3D.\n",
       "\n",
       "---\n",
       "\n",
       "#### **Company Culture**\n",
       "At Hugging Face, we foster a culture of collaboration, creativity, and innovation. Our team is composed of passionate individuals from diverse backgrounds who come together to tackle some of the biggest challenges in AI. We believe in supporting one another through collaborative projects and knowledge sharing, fostering an inclusive environment where everyone can thrive.\n",
       "\n",
       "---\n",
       "\n",
       "#### **Careers at Hugging Face**\n",
       "We are always on the lookout for talented individuals who are passionate about artificial intelligence and machine learning. Join us to work in an engaging environment that values innovation and creativity. Check out our [Careers Page](https://huggingface.co/jobs) for current job openings and become a part of our dynamic team!\n",
       "\n",
       "---\n",
       "\n",
       "#### **Join Us!**\n",
       "Become part of an exciting community that’s shaping the future of AI. Whether you're a researcher, an industry professional, or simply an enthusiast, Hugging Face welcomes you to collaborate and innovate.\n",
       "\n",
       "---\n",
       "\n",
       "**Connect with Us:**\n",
       "- Website: [Hugging Face](https://huggingface.co)\n",
       "- Follow us on [Twitter](https://twitter.com/huggingface), [LinkedIn](https://linkedin.com/company/hugging-face), and [Discord](https://discord.com/invite/huggingface).\n",
       "\n",
       "---\n",
       "\n",
       "### Hugging Face – Let's Build the Future Together!"
      ],
      "text/plain": [
       "<IPython.core.display.Markdown object>"
      ]
     },
     "metadata": {},
     "output_type": "display_data"
    }
   ],
   "source": [
    "create_brochure(\"HuggingFace\", \"https://huggingface.co\")"
   ]
  },
  {
   "cell_type": "code",
   "execution_count": null,
   "metadata": {},
   "outputs": [],
   "source": []
  }
 ],
 "metadata": {
  "kernelspec": {
   "display_name": "Python 3 (ipykernel)",
   "language": "python",
   "name": "python3"
  },
  "language_info": {
   "codemirror_mode": {
    "name": "ipython",
    "version": 3
   },
   "file_extension": ".py",
   "mimetype": "text/x-python",
   "name": "python",
   "nbconvert_exporter": "python",
   "pygments_lexer": "ipython3",
   "version": "3.11.11"
  }
 },
 "nbformat": 4,
 "nbformat_minor": 4
}
